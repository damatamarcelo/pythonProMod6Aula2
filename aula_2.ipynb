{
 "cells": [
  {
   "cell_type": "code",
   "execution_count": 1,
   "metadata": {},
   "outputs": [],
   "source": [
    "from requests import get, post"
   ]
  },
  {
   "cell_type": "code",
   "execution_count": 2,
   "metadata": {},
   "outputs": [
    {
     "name": "stdout",
     "output_type": "stream",
     "text": [
      "<h2>Esta é uma nova rota</h2>\n"
     ]
    }
   ],
   "source": [
    "resp = get(\"http://localhost:5000/novarota\")\n",
    "\n",
    "print(resp.text)"
   ]
  },
  {
   "cell_type": "code",
   "execution_count": 3,
   "metadata": {},
   "outputs": [
    {
     "name": "stdout",
     "output_type": "stream",
     "text": [
      "True\n",
      "{\"key\":\"value\"}\n",
      "\n"
     ]
    }
   ],
   "source": [
    "resp_2 = post(\"http://localhost:5000/api\", json={\"key\": \"value\"})\n",
    "print(resp_2.ok)\n",
    "\n",
    "print(resp_2.text)"
   ]
  }
 ],
 "metadata": {
  "interpreter": {
   "hash": "9ffedeb0996a27066d9f66d1fdb453fe998b885820df59d829eea8e9227344c9"
  },
  "kernelspec": {
   "display_name": "Python 3.10.4 ('venv': venv)",
   "language": "python",
   "name": "python3"
  },
  "language_info": {
   "codemirror_mode": {
    "name": "ipython",
    "version": 3
   },
   "file_extension": ".py",
   "mimetype": "text/x-python",
   "name": "python",
   "nbconvert_exporter": "python",
   "pygments_lexer": "ipython3",
   "version": "3.10.4"
  },
  "orig_nbformat": 4
 },
 "nbformat": 4,
 "nbformat_minor": 2
}
